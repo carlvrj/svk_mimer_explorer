{
 "cells": [
  {
   "cell_type": "markdown",
   "metadata": {},
   "source": [
    "# Using SVK Mimer \"API\" for actuall wind energy production"
   ]
  },
  {
   "cell_type": "markdown",
   "metadata": {},
   "source": [
    "## Initial query and CSV parsing testing"
   ]
  },
  {
   "cell_type": "code",
   "execution_count": 1,
   "metadata": {
    "_uuid": "a30bd7819f2ff07b7105424dca81058d0d26284d"
   },
   "outputs": [
    {
     "data": {
      "text/html": [
       "<div>\n",
       "<style scoped>\n",
       "    .dataframe tbody tr th:only-of-type {\n",
       "        vertical-align: middle;\n",
       "    }\n",
       "\n",
       "    .dataframe tbody tr th {\n",
       "        vertical-align: top;\n",
       "    }\n",
       "\n",
       "    .dataframe thead th {\n",
       "        text-align: right;\n",
       "    }\n",
       "</style>\n",
       "<table border=\"1\" class=\"dataframe\">\n",
       "  <thead>\n",
       "    <tr style=\"text-align: right;\">\n",
       "      <th></th>\n",
       "      <th>Period</th>\n",
       "      <th>Planerad (kWh)</th>\n",
       "      <th>Avräknad (kWh)</th>\n",
       "      <th>Publiceringstidpunkt</th>\n",
       "      <th>Unnamed: 4</th>\n",
       "    </tr>\n",
       "  </thead>\n",
       "  <tbody>\n",
       "    <tr>\n",
       "      <th>0</th>\n",
       "      <td>2019-03-30 00:00</td>\n",
       "      <td>NaN</td>\n",
       "      <td>4975408.173</td>\n",
       "      <td>2019-04-05 10:01</td>\n",
       "      <td>NaN</td>\n",
       "    </tr>\n",
       "    <tr>\n",
       "      <th>1</th>\n",
       "      <td>2019-03-30 01:00</td>\n",
       "      <td>NaN</td>\n",
       "      <td>4718669.599</td>\n",
       "      <td>2019-04-05 10:01</td>\n",
       "      <td>NaN</td>\n",
       "    </tr>\n",
       "    <tr>\n",
       "      <th>2</th>\n",
       "      <td>2019-03-30 02:00</td>\n",
       "      <td>NaN</td>\n",
       "      <td>4402917.724</td>\n",
       "      <td>2019-04-05 10:01</td>\n",
       "      <td>NaN</td>\n",
       "    </tr>\n",
       "    <tr>\n",
       "      <th>3</th>\n",
       "      <td>2019-03-30 03:00</td>\n",
       "      <td>NaN</td>\n",
       "      <td>4199060.526</td>\n",
       "      <td>2019-04-05 10:01</td>\n",
       "      <td>NaN</td>\n",
       "    </tr>\n",
       "    <tr>\n",
       "      <th>4</th>\n",
       "      <td>2019-03-30 04:00</td>\n",
       "      <td>NaN</td>\n",
       "      <td>4141460.816</td>\n",
       "      <td>2019-04-04 14:01</td>\n",
       "      <td>NaN</td>\n",
       "    </tr>\n",
       "  </tbody>\n",
       "</table>\n",
       "</div>"
      ],
      "text/plain": [
       "             Period  Planerad (kWh)  Avräknad (kWh) Publiceringstidpunkt  \\\n",
       "0  2019-03-30 00:00             NaN     4975408.173     2019-04-05 10:01   \n",
       "1  2019-03-30 01:00             NaN     4718669.599     2019-04-05 10:01   \n",
       "2  2019-03-30 02:00             NaN     4402917.724     2019-04-05 10:01   \n",
       "3  2019-03-30 03:00             NaN     4199060.526     2019-04-05 10:01   \n",
       "4  2019-03-30 04:00             NaN     4141460.816     2019-04-04 14:01   \n",
       "\n",
       "   Unnamed: 4  \n",
       "0         NaN  \n",
       "1         NaN  \n",
       "2         NaN  \n",
       "3         NaN  \n",
       "4         NaN  "
      ]
     },
     "execution_count": 1,
     "metadata": {},
     "output_type": "execute_result"
    }
   ],
   "source": [
    "# Carl von Rosen Johansson 2019-04-20\n",
    "import pandas as pd\n",
    "import numpy as np\n",
    "from datetime import datetime\n",
    "import calendar\n",
    "import matplotlib.pyplot as plt\n",
    "\n",
    "csv_url_string = \"https://mimer.svk.se/ProductionConsumption/DownloadText?PeriodFrom=03%2F30%2F2019%2000%3A00%3A00&PeriodTo=04%2F06%2F2019%2010%3A10%3A55&ConstraintAreaId=SN0&ProductionSortId=VI\"\n",
    "\n",
    "test = pd.read_csv(csv_url_string,sep=';',parse_dates=True,decimal=',') # \n",
    "\n",
    "test.head()"
   ]
  },
  {
   "cell_type": "code",
   "execution_count": 2,
   "metadata": {},
   "outputs": [
    {
     "data": {
      "text/plain": [
       "0    4975408.173\n",
       "1    4718669.599\n",
       "2    4402917.724\n",
       "3    4199060.526\n",
       "4    4141460.816\n",
       "Name: Avräknad (kWh), dtype: float64"
      ]
     },
     "execution_count": 2,
     "metadata": {},
     "output_type": "execute_result"
    }
   ],
   "source": [
    "test['Avräknad (kWh)'].head()"
   ]
  },
  {
   "cell_type": "markdown",
   "metadata": {},
   "source": [
    "## Plot wind over time"
   ]
  },
  {
   "cell_type": "code",
   "execution_count": 3,
   "metadata": {},
   "outputs": [
    {
     "name": "stdout",
     "output_type": "stream",
     "text": [
      "https://mimer.svk.se/ProductionConsumption/DownloadText?PeriodFrom=01%2F01%2F2016%2000%3A00%3A00&PeriodTo=3%2F31%2F2019%2023%3A59%3A59&ConstraintAreaId=SN0&ProductionSortId=VI\n"
     ]
    },
    {
     "data": {
      "text/plain": [
       "28242   2019-03-31 19:00:00\n",
       "28243   2019-03-31 20:00:00\n",
       "28244   2019-03-31 21:00:00\n",
       "28245   2019-03-31 22:00:00\n",
       "28246   2019-03-31 23:00:00\n",
       "Name: period, dtype: datetime64[ns]"
      ]
     },
     "execution_count": 3,
     "metadata": {},
     "output_type": "execute_result"
    }
   ],
   "source": [
    "solar = 'SE' # Solarpower\n",
    "wind = 'VI'  # Onshore windpower\n",
    "hydro = 'VA' # Hydropower\n",
    "nucle = 'KK'  # Nuclearpower\n",
    "wave = 'VK'  # Wavepower\n",
    "gas = 'GA'   # Gasturbine/Disel \n",
    "heat = 'OK'  # Other heat power\n",
    "other = 'OP' # Other production\n",
    "\n",
    "start_mm = '01'\n",
    "start_dd = '01'\n",
    "start_yy = '2016'\n",
    "\n",
    "end_mm = datetime.today().month-1\n",
    "end_yy = datetime.today().year\n",
    "end_dd = calendar.monthrange(end_yy,end_mm)[1]\n",
    "date_from = '{}%2F{}%2F{}%2000%3A00%3A00'.format(start_mm,start_dd,start_yy) #[month '/' day '/' year ' ' hh ':' mm ':' ss] # / = %2F , : = %3A\n",
    "date_to = '{}%2F{}%2F{}%2023%3A59%3A59'.format(end_mm,end_dd,end_yy)         #[month '/' day '/' year ' ' hh ':' mm ':' ss]\n",
    "csv_url_string = ''.join(['https://mimer.svk.se/ProductionConsumption/DownloadText?PeriodFrom=', \n",
    "                  date_from, '&PeriodTo=', date_to,\n",
    "                  '&ConstraintAreaId=SN0&ProductionSortId=', wind])\n",
    "print(csv_url_string)\n",
    "test = pd.read_csv(csv_url_string,sep=';',decimal=',',parse_dates=True)\n",
    "test.drop(test.tail(1).index,inplace=True)\n",
    "period_data = pd.to_datetime(test['Period'], format='%Y-%m-%d %H:%M')\n",
    "wind_data = pd.DataFrame({'period': period_data,'mwh': test['Avräknad (kWh)']/1000})\n",
    "wind_data['period'].tail()"
   ]
  },
  {
   "cell_type": "markdown",
   "metadata": {},
   "source": [
    "## Compare month by month 2019"
   ]
  },
  {
   "cell_type": "code",
   "execution_count": 4,
   "metadata": {},
   "outputs": [
    {
     "data": {
      "image/png": "[encoded data removed]",
      "text/plain": [
       "<Figure size 432x288 with 1 Axes>"
      ]
     },
     "metadata": {
      "needs_background": "light"
     },
     "output_type": "display_data"
    }
   ],
   "source": [
    "jan = wind_data['mwh'].loc[(wind_data['period'].dt.month == 1) & (wind_data['period'].dt.year == 2019)].sum()/1000 #GWh\n",
    "feb = wind_data['mwh'].loc[(wind_data['period'].dt.month == 2) & (wind_data['period'].dt.year == 2019)].sum()/1000 #GWh\n",
    "mar = wind_data['mwh'].loc[(wind_data['period'].dt.month == 3) & (wind_data['period'].dt.year == 2019)].sum()/1000 #GWh\n",
    "\n",
    "plt.bar(['Jan','Feb','Mar'],[jan,feb,mar])\n",
    "plt.show()"
   ]
  },
  {
   "cell_type": "markdown",
   "metadata": {},
   "source": [
    "## Compare over time"
   ]
  },
  {
   "cell_type": "code",
   "execution_count": 5,
   "metadata": {},
   "outputs": [
    {
     "data": {
      "image/png": "[encoded data removed]",
      "text/plain": [
       "<Figure size 432x288 with 1 Axes>"
      ]
     },
     "metadata": {
      "needs_background": "light"
     },
     "output_type": "display_data"
    }
   ],
   "source": [
    "from pandas.plotting import register_matplotlib_converters\n",
    "register_matplotlib_converters()\n",
    "\n",
    "per_month = wind_data.set_index('period').groupby(pd.Grouper(freq='M'))['mwh'].sum()/1000\n",
    "\n",
    "x = per_month.index\n",
    "y = per_month.values\n",
    "\n",
    "plt.plot(x,y)\n",
    "plt.ylabel('GWh / Month')\n",
    "plt.show()"
   ]
  },
  {
   "cell_type": "markdown",
   "metadata": {},
   "source": [
    "## Display GWh by month"
   ]
  },
  {
   "cell_type": "code",
   "execution_count": 6,
   "metadata": {},
   "outputs": [
    {
     "data": {
      "text/plain": [
       "period\n",
       "2016-01-31    1458.670314\n",
       "2016-02-29    1436.978526\n",
       "2016-03-31    1040.394003\n",
       "2016-04-30    1099.852028\n",
       "2016-05-31     579.485831\n",
       "2016-06-30     949.957455\n",
       "2016-07-31     850.128181\n",
       "2016-08-31    1207.479555\n",
       "2016-09-30    1029.254258\n",
       "2016-10-31    1462.089497\n",
       "2016-11-30    1802.982553\n",
       "2016-12-31    2363.276861\n",
       "2017-01-31    1982.801876\n",
       "2017-02-28    1370.286289\n",
       "2017-03-31    1716.596147\n",
       "2017-04-30    1453.173407\n",
       "2017-05-31    1090.140117\n",
       "2017-06-30    1314.862974\n",
       "2017-07-31    1022.332754\n",
       "2017-08-31     608.962103\n",
       "2017-09-30    1011.354610\n",
       "2017-10-31    1931.255051\n",
       "2017-11-30    1644.769418\n",
       "2017-12-31    1837.142806\n",
       "2018-01-31    1514.411851\n",
       "2018-02-28    1127.580568\n",
       "2018-03-31    1159.996791\n",
       "2018-04-30    1288.826460\n",
       "2018-05-31    1034.374480\n",
       "2018-06-30    1352.084831\n",
       "2018-07-31     652.863968\n",
       "2018-08-31    1294.012928\n",
       "2018-09-30    1950.158634\n",
       "2018-10-31    1987.599664\n",
       "2018-11-30    1661.127629\n",
       "2018-12-31    1641.666344\n",
       "2019-01-31    1840.219778\n",
       "2019-02-28    2085.558468\n",
       "2019-03-31    2375.332024\n",
       "Freq: M, Name: mwh, dtype: float64"
      ]
     },
     "execution_count": 6,
     "metadata": {},
     "output_type": "execute_result"
    }
   ],
   "source": [
    "per_month"
   ]
  }
 ],
 "metadata": {
  "kernelspec": {
   "display_name": "Python 3",
   "language": "python",
   "name": "python3"
  },
  "language_info": {
   "codemirror_mode": {
    "name": "ipython",
    "version": 3
   },
   "file_extension": ".py",
   "mimetype": "text/x-python",
   "name": "python",
   "nbconvert_exporter": "python",
   "pygments_lexer": "ipython3",
   "version": "3.7.2"
  }
 },
 "nbformat": 4,
 "nbformat_minor": 1
}
